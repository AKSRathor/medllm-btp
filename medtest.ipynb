{
 "cells": [
  {
   "cell_type": "code",
   "execution_count": 1,
   "metadata": {},
   "outputs": [],
   "source": [
    "import json\n",
    "import pprint\n",
    "import pandas as pd\n",
    "import numpy as np"
   ]
  },
  {
   "cell_type": "markdown",
   "metadata": {},
   "source": [
    "## medQA loading data"
   ]
  },
  {
   "cell_type": "code",
   "execution_count": 2,
   "metadata": {},
   "outputs": [],
   "source": [
    "file_path = \"./Datasets/MedQA/data_clean/questions/Taiwan/tw_translated_jsonl/en/train-2en.jsonl\"\n",
    "with open(file_path, 'r', encoding='utf-8') as f:\n",
    "    medqa_taiwan_train = [json.loads(line) for line in f]\n",
    "# print(medqa_taiwan_train)\n"
   ]
  },
  {
   "cell_type": "code",
   "execution_count": 5,
   "metadata": {},
   "outputs": [
    {
     "data": {
      "text/plain": [
       "11298"
      ]
     },
     "execution_count": 5,
     "metadata": {},
     "output_type": "execute_result"
    }
   ],
   "source": [
    "len(medqa_taiwan_train)"
   ]
  },
  {
   "cell_type": "code",
   "execution_count": 3,
   "metadata": {},
   "outputs": [],
   "source": [
    "medqa_taiwan_train_pd = pd.DataFrame(medqa_taiwan_train)"
   ]
  },
  {
   "cell_type": "code",
   "execution_count": 4,
   "metadata": {},
   "outputs": [],
   "source": [
    "medqa_taiwan_train_pd.drop(columns=['meta_info', 'answer_idx','options'], inplace=True)"
   ]
  },
  {
   "cell_type": "code",
   "execution_count": 5,
   "metadata": {},
   "outputs": [],
   "source": [
    "medqa_taiwan_train_pd.rename(columns={'answer':'context'}, inplace=True)"
   ]
  },
  {
   "cell_type": "code",
   "execution_count": 6,
   "metadata": {},
   "outputs": [],
   "source": [
    "file_path = \"./Datasets/MedQA/data_clean/questions/US/train.jsonl\"\n",
    "with open(file_path, 'r', encoding='utf-8') as f:\n",
    "    medqa_us_train = [json.loads(line) for line in f]\n",
    "# print(medqa_us_train)"
   ]
  },
  {
   "cell_type": "code",
   "execution_count": 7,
   "metadata": {},
   "outputs": [],
   "source": [
    "medqa_us_train_pd = pd.DataFrame(medqa_us_train)\n",
    "medqa_us_train_pd.drop(columns=['meta_info', 'answer_idx','options'], inplace=True)\n",
    "medqa_us_train_pd.rename(columns={'answer':'context'}, inplace=True)"
   ]
  },
  {
   "cell_type": "code",
   "execution_count": 8,
   "metadata": {},
   "outputs": [],
   "source": [
    "medqa_train_pd = pd.concat([medqa_taiwan_train_pd, medqa_us_train_pd], ignore_index=True)"
   ]
  },
  {
   "cell_type": "code",
   "execution_count": 9,
   "metadata": {},
   "outputs": [
    {
     "data": {
      "text/html": [
       "<div>\n",
       "<style scoped>\n",
       "    .dataframe tbody tr th:only-of-type {\n",
       "        vertical-align: middle;\n",
       "    }\n",
       "\n",
       "    .dataframe tbody tr th {\n",
       "        vertical-align: top;\n",
       "    }\n",
       "\n",
       "    .dataframe thead th {\n",
       "        text-align: right;\n",
       "    }\n",
       "</style>\n",
       "<table border=\"1\" class=\"dataframe\">\n",
       "  <thead>\n",
       "    <tr style=\"text-align: right;\">\n",
       "      <th></th>\n",
       "      <th>question</th>\n",
       "      <th>context</th>\n",
       "    </tr>\n",
       "  </thead>\n",
       "  <tbody>\n",
       "    <tr>\n",
       "      <th>0</th>\n",
       "      <td>After the reaction physiology Which is not bed...</td>\n",
       "      <td>Ligamentous laxity, increased ductility</td>\n",
       "    </tr>\n",
       "    <tr>\n",
       "      <th>1</th>\n",
       "      <td>Humans, vitamin D3 is converted to 25-hydroxyc...</td>\n",
       "      <td>liver</td>\n",
       "    </tr>\n",
       "    <tr>\n",
       "      <th>2</th>\n",
       "      <td>Esotropia eye when doing alternate cover test ...</td>\n",
       "      <td>Abduction (Abduction)</td>\n",
       "    </tr>\n",
       "    <tr>\n",
       "      <th>3</th>\n",
       "      <td>Suppose there is a popular city Influenza A, 1...</td>\n",
       "      <td>0.2</td>\n",
       "    </tr>\n",
       "    <tr>\n",
       "      <th>4</th>\n",
       "      <td>Healthcare nuclear emergency physician is noti...</td>\n",
       "      <td>Emergency physicians should be according to th...</td>\n",
       "    </tr>\n",
       "  </tbody>\n",
       "</table>\n",
       "</div>"
      ],
      "text/plain": [
       "                                            question  \\\n",
       "0  After the reaction physiology Which is not bed...   \n",
       "1  Humans, vitamin D3 is converted to 25-hydroxyc...   \n",
       "2  Esotropia eye when doing alternate cover test ...   \n",
       "3  Suppose there is a popular city Influenza A, 1...   \n",
       "4  Healthcare nuclear emergency physician is noti...   \n",
       "\n",
       "                                             context  \n",
       "0            Ligamentous laxity, increased ductility  \n",
       "1                                              liver  \n",
       "2                              Abduction (Abduction)  \n",
       "3                                                0.2  \n",
       "4  Emergency physicians should be according to th...  "
      ]
     },
     "execution_count": 9,
     "metadata": {},
     "output_type": "execute_result"
    }
   ],
   "source": [
    "medqa_train_pd.head()"
   ]
  },
  {
   "cell_type": "markdown",
   "metadata": {},
   "source": [
    "## PubMedQA loading data"
   ]
  },
  {
   "cell_type": "code",
   "execution_count": 7,
   "metadata": {},
   "outputs": [
    {
     "name": "stdout",
     "output_type": "stream",
     "text": [
      "<class 'dict'>\n"
     ]
    }
   ],
   "source": [
    "file_path = \"./Datasets/PubMedQA/ori_pqaa.json\"\n",
    "with open(file_path, 'r') as file:\n",
    "    pmqaa = json.load(file)\n",
    "\n",
    "print(type(pmqaa))\n"
   ]
  },
  {
   "cell_type": "code",
   "execution_count": 11,
   "metadata": {},
   "outputs": [],
   "source": [
    "pmqaa_keys = np.array(list(pmqaa.keys()))"
   ]
  },
  {
   "cell_type": "code",
   "execution_count": 12,
   "metadata": {},
   "outputs": [],
   "source": [
    "pmqaa_values = np.array(list(pmqaa.values()))"
   ]
  },
  {
   "cell_type": "code",
   "execution_count": 13,
   "metadata": {},
   "outputs": [],
   "source": [
    "pmqaa_pd = pd.DataFrame(list(pmqaa_values))"
   ]
  },
  {
   "cell_type": "code",
   "execution_count": 14,
   "metadata": {},
   "outputs": [],
   "source": [
    "pmqaa_pd.drop(columns=['LABELS', 'LONG_ANSWER','MESHES', 'final_decision'], inplace=True)"
   ]
  },
  {
   "cell_type": "code",
   "execution_count": 15,
   "metadata": {},
   "outputs": [],
   "source": [
    "pmqaa_pd.rename(columns={'QUESTION':'question', 'CONTEXTS':'context'}, inplace=True)"
   ]
  },
  {
   "cell_type": "code",
   "execution_count": 16,
   "metadata": {},
   "outputs": [],
   "source": [
    "pmqaa_pd['context'] = pmqaa_pd['context'].apply(lambda x: x[0])"
   ]
  },
  {
   "cell_type": "code",
   "execution_count": 17,
   "metadata": {},
   "outputs": [
    {
     "name": "stdout",
     "output_type": "stream",
     "text": [
      "<class 'dict'>\n"
     ]
    }
   ],
   "source": [
    "file_path = \"./Datasets/PubMedQA/ori_pqau.json\"\n",
    "with open(file_path, 'r') as file:\n",
    "    pmqau = json.load(file)\n",
    "\n",
    "print(type(pmqau))"
   ]
  },
  {
   "cell_type": "code",
   "execution_count": 18,
   "metadata": {},
   "outputs": [],
   "source": [
    "pmqau_keys = np.array(list(pmqau.keys()))\n",
    "pmqau_values = np.array(list(pmqau.values()))\n",
    "pmqau_pd = pd.DataFrame(list(pmqau_values))"
   ]
  },
  {
   "cell_type": "code",
   "execution_count": 19,
   "metadata": {},
   "outputs": [],
   "source": [
    "pmqau_pd.drop(columns=['LABELS', 'LONG_ANSWER','MESHES'], inplace=True)\n",
    "pmqau_pd.rename(columns={'QUESTION':'question', 'CONTEXTS':'context'}, inplace=True)\n",
    "pmqau_pd.drop(columns=['YEAR'], inplace=True)"
   ]
  },
  {
   "cell_type": "code",
   "execution_count": 20,
   "metadata": {},
   "outputs": [],
   "source": [
    "pmqau_pd['context'] = pmqau_pd['context'].apply(lambda x: x[0])"
   ]
  },
  {
   "cell_type": "code",
   "execution_count": 21,
   "metadata": {},
   "outputs": [
    {
     "data": {
      "text/html": [
       "<div>\n",
       "<style scoped>\n",
       "    .dataframe tbody tr th:only-of-type {\n",
       "        vertical-align: middle;\n",
       "    }\n",
       "\n",
       "    .dataframe tbody tr th {\n",
       "        vertical-align: top;\n",
       "    }\n",
       "\n",
       "    .dataframe thead th {\n",
       "        text-align: right;\n",
       "    }\n",
       "</style>\n",
       "<table border=\"1\" class=\"dataframe\">\n",
       "  <thead>\n",
       "    <tr style=\"text-align: right;\">\n",
       "      <th></th>\n",
       "      <th>question</th>\n",
       "      <th>context</th>\n",
       "    </tr>\n",
       "  </thead>\n",
       "  <tbody>\n",
       "    <tr>\n",
       "      <th>0</th>\n",
       "      <td>Is naturopathy as effective as conventional th...</td>\n",
       "      <td>Although the use of alternative medicine in th...</td>\n",
       "    </tr>\n",
       "    <tr>\n",
       "      <th>1</th>\n",
       "      <td>Can randomised trials rely on existing electro...</td>\n",
       "      <td>To estimate the feasibility, utility and resou...</td>\n",
       "    </tr>\n",
       "    <tr>\n",
       "      <th>2</th>\n",
       "      <td>Is laparoscopic radical prostatectomy better t...</td>\n",
       "      <td>To compare morbidity in two groups of patients...</td>\n",
       "    </tr>\n",
       "    <tr>\n",
       "      <th>3</th>\n",
       "      <td>Does bacterial gastroenteritis predispose peop...</td>\n",
       "      <td>Irritable bowel syndrome (IBS) might develop a...</td>\n",
       "    </tr>\n",
       "    <tr>\n",
       "      <th>4</th>\n",
       "      <td>Is early colonoscopy after admission for acute...</td>\n",
       "      <td>Urgent colonoscopy has been proposed for the d...</td>\n",
       "    </tr>\n",
       "  </tbody>\n",
       "</table>\n",
       "</div>"
      ],
      "text/plain": [
       "                                            question  \\\n",
       "0  Is naturopathy as effective as conventional th...   \n",
       "1  Can randomised trials rely on existing electro...   \n",
       "2  Is laparoscopic radical prostatectomy better t...   \n",
       "3  Does bacterial gastroenteritis predispose peop...   \n",
       "4  Is early colonoscopy after admission for acute...   \n",
       "\n",
       "                                             context  \n",
       "0  Although the use of alternative medicine in th...  \n",
       "1  To estimate the feasibility, utility and resou...  \n",
       "2  To compare morbidity in two groups of patients...  \n",
       "3  Irritable bowel syndrome (IBS) might develop a...  \n",
       "4  Urgent colonoscopy has been proposed for the d...  "
      ]
     },
     "execution_count": 21,
     "metadata": {},
     "output_type": "execute_result"
    }
   ],
   "source": [
    "pmqau_pd.head()"
   ]
  },
  {
   "cell_type": "code",
   "execution_count": 22,
   "metadata": {},
   "outputs": [
    {
     "data": {
      "text/html": [
       "<div>\n",
       "<style scoped>\n",
       "    .dataframe tbody tr th:only-of-type {\n",
       "        vertical-align: middle;\n",
       "    }\n",
       "\n",
       "    .dataframe tbody tr th {\n",
       "        vertical-align: top;\n",
       "    }\n",
       "\n",
       "    .dataframe thead th {\n",
       "        text-align: right;\n",
       "    }\n",
       "</style>\n",
       "<table border=\"1\" class=\"dataframe\">\n",
       "  <thead>\n",
       "    <tr style=\"text-align: right;\">\n",
       "      <th></th>\n",
       "      <th>question</th>\n",
       "      <th>context</th>\n",
       "    </tr>\n",
       "  </thead>\n",
       "  <tbody>\n",
       "    <tr>\n",
       "      <th>0</th>\n",
       "      <td>Are group 2 innate lymphoid cells ( ILC2s ) in...</td>\n",
       "      <td>Chronic rhinosinusitis (CRS) is a heterogeneou...</td>\n",
       "    </tr>\n",
       "    <tr>\n",
       "      <th>1</th>\n",
       "      <td>Does vagus nerve contribute to the development...</td>\n",
       "      <td>Phosphatidylethanolamine N-methyltransferase (...</td>\n",
       "    </tr>\n",
       "    <tr>\n",
       "      <th>2</th>\n",
       "      <td>Does psammaplin A induce Sirtuin 1-dependent a...</td>\n",
       "      <td>Psammaplin A (PsA) is a natural product isolat...</td>\n",
       "    </tr>\n",
       "    <tr>\n",
       "      <th>3</th>\n",
       "      <td>Is methylation of the FGFR2 gene associated wi...</td>\n",
       "      <td>This study examined links between DNA methylat...</td>\n",
       "    </tr>\n",
       "    <tr>\n",
       "      <th>4</th>\n",
       "      <td>Do tumor-infiltrating immune cell profiles and...</td>\n",
       "      <td>Tumor microenvironment immunity is associated ...</td>\n",
       "    </tr>\n",
       "  </tbody>\n",
       "</table>\n",
       "</div>"
      ],
      "text/plain": [
       "                                            question  \\\n",
       "0  Are group 2 innate lymphoid cells ( ILC2s ) in...   \n",
       "1  Does vagus nerve contribute to the development...   \n",
       "2  Does psammaplin A induce Sirtuin 1-dependent a...   \n",
       "3  Is methylation of the FGFR2 gene associated wi...   \n",
       "4  Do tumor-infiltrating immune cell profiles and...   \n",
       "\n",
       "                                             context  \n",
       "0  Chronic rhinosinusitis (CRS) is a heterogeneou...  \n",
       "1  Phosphatidylethanolamine N-methyltransferase (...  \n",
       "2  Psammaplin A (PsA) is a natural product isolat...  \n",
       "3  This study examined links between DNA methylat...  \n",
       "4  Tumor microenvironment immunity is associated ...  "
      ]
     },
     "execution_count": 22,
     "metadata": {},
     "output_type": "execute_result"
    }
   ],
   "source": [
    "pmqaa_pd.head()"
   ]
  },
  {
   "cell_type": "code",
   "execution_count": 23,
   "metadata": {},
   "outputs": [],
   "source": [
    "pmqa_train_pd = pd.concat([pmqaa_pd, pmqau_pd], ignore_index=True)"
   ]
  },
  {
   "cell_type": "code",
   "execution_count": 24,
   "metadata": {},
   "outputs": [
    {
     "data": {
      "text/plain": [
       "question    272518\n",
       "context     272518\n",
       "dtype: int64"
      ]
     },
     "execution_count": 24,
     "metadata": {},
     "output_type": "execute_result"
    }
   ],
   "source": [
    "pmqa_train_pd.count()"
   ]
  },
  {
   "cell_type": "code",
   "execution_count": 25,
   "metadata": {},
   "outputs": [],
   "source": [
    "final_dataset = pd.concat([medqa_train_pd, pmqa_train_pd], ignore_index=True)"
   ]
  },
  {
   "cell_type": "code",
   "execution_count": 26,
   "metadata": {},
   "outputs": [
    {
     "data": {
      "text/plain": [
       "question    293994\n",
       "context     293994\n",
       "dtype: int64"
      ]
     },
     "execution_count": 26,
     "metadata": {},
     "output_type": "execute_result"
    }
   ],
   "source": [
    "final_dataset.count()"
   ]
  },
  {
   "cell_type": "markdown",
   "metadata": {},
   "source": [
    "## MMLU(Anantomy)"
   ]
  },
  {
   "cell_type": "code",
   "execution_count": 27,
   "metadata": {},
   "outputs": [
    {
     "name": "stderr",
     "output_type": "stream",
     "text": [
      "d:\\Files\\Ayush\\document and educational\\CS\\practice_page\\page73(medllm)\\backllm\\Lib\\site-packages\\tqdm\\auto.py:21: TqdmWarning: IProgress not found. Please update jupyter and ipywidgets. See https://ipywidgets.readthedocs.io/en/stable/user_install.html\n",
      "  from .autonotebook import tqdm as notebook_tqdm\n"
     ]
    }
   ],
   "source": [
    "mmlu_anatomy = {'dev': 'data/dev-00000-of-00001-388e2a72c67c7ddd.parquet', 'test': 'data/test-00000-of-00001-77adf027269dc115.parquet'}\n",
    "df_test_mmlu_anatomy = pd.read_parquet(\"hf://datasets/joey234/mmlu-anatomy/\" + mmlu_anatomy[\"test\"])\n"
   ]
  },
  {
   "cell_type": "code",
   "execution_count": 28,
   "metadata": {},
   "outputs": [
    {
     "data": {
      "text/html": [
       "<div>\n",
       "<style scoped>\n",
       "    .dataframe tbody tr th:only-of-type {\n",
       "        vertical-align: middle;\n",
       "    }\n",
       "\n",
       "    .dataframe tbody tr th {\n",
       "        vertical-align: top;\n",
       "    }\n",
       "\n",
       "    .dataframe thead th {\n",
       "        text-align: right;\n",
       "    }\n",
       "</style>\n",
       "<table border=\"1\" class=\"dataframe\">\n",
       "  <thead>\n",
       "    <tr style=\"text-align: right;\">\n",
       "      <th></th>\n",
       "      <th>question</th>\n",
       "      <th>choices</th>\n",
       "      <th>answer</th>\n",
       "      <th>negate_openai_prompt</th>\n",
       "      <th>neg_question</th>\n",
       "      <th>fewshot_context</th>\n",
       "      <th>fewshot_context_neg</th>\n",
       "    </tr>\n",
       "  </thead>\n",
       "  <tbody>\n",
       "    <tr>\n",
       "      <th>0</th>\n",
       "      <td>A lesion causing compression of the facial ner...</td>\n",
       "      <td>[paralysis of the facial muscles., paralysis o...</td>\n",
       "      <td>0</td>\n",
       "      <td>{'content': 'Given a text in the form of a sho...</td>\n",
       "      <td>A lesion causing compression of the facial ner...</td>\n",
       "      <td>What is not the embryological origin of the hy...</td>\n",
       "      <td>What is not the embryological origin of the hy...</td>\n",
       "    </tr>\n",
       "    <tr>\n",
       "      <th>1</th>\n",
       "      <td>A \"dished face\" profile is often associated with</td>\n",
       "      <td>[a protruding mandible due to reactivation of ...</td>\n",
       "      <td>1</td>\n",
       "      <td>{'content': 'Given a text in the form of a sho...</td>\n",
       "      <td>A \"dished face\" profile is NOT often associate...</td>\n",
       "      <td>What is not the embryological origin of the hy...</td>\n",
       "      <td>What is not the embryological origin of the hy...</td>\n",
       "    </tr>\n",
       "    <tr>\n",
       "      <th>2</th>\n",
       "      <td>Which of the following best describes the stru...</td>\n",
       "      <td>[Bladder, Kidney, Ureter, Urethra]</td>\n",
       "      <td>0</td>\n",
       "      <td>{'content': 'Given a text in the form of a sho...</td>\n",
       "      <td>Which of the following does not best describe ...</td>\n",
       "      <td>What is not the embryological origin of the hy...</td>\n",
       "      <td>What is not the embryological origin of the hy...</td>\n",
       "    </tr>\n",
       "    <tr>\n",
       "      <th>3</th>\n",
       "      <td>Which of the following structures is derived f...</td>\n",
       "      <td>[Motor neurons, Skeletal muscles, Melanocytes,...</td>\n",
       "      <td>2</td>\n",
       "      <td>{'content': 'Given a text in the form of a sho...</td>\n",
       "      <td>Which of the following structures is not deriv...</td>\n",
       "      <td>What is not the embryological origin of the hy...</td>\n",
       "      <td>What is not the embryological origin of the hy...</td>\n",
       "    </tr>\n",
       "    <tr>\n",
       "      <th>4</th>\n",
       "      <td>Which of the following describes the cluster o...</td>\n",
       "      <td>[Afferent arteriole, Glomerulus, Loop of Henle...</td>\n",
       "      <td>1</td>\n",
       "      <td>{'content': 'Given a text in the form of a sho...</td>\n",
       "      <td>Which of the following does not describe the c...</td>\n",
       "      <td>What is not the embryological origin of the hy...</td>\n",
       "      <td>What is not the embryological origin of the hy...</td>\n",
       "    </tr>\n",
       "  </tbody>\n",
       "</table>\n",
       "</div>"
      ],
      "text/plain": [
       "                                            question  \\\n",
       "0  A lesion causing compression of the facial ner...   \n",
       "1   A \"dished face\" profile is often associated with   \n",
       "2  Which of the following best describes the stru...   \n",
       "3  Which of the following structures is derived f...   \n",
       "4  Which of the following describes the cluster o...   \n",
       "\n",
       "                                             choices  answer  \\\n",
       "0  [paralysis of the facial muscles., paralysis o...       0   \n",
       "1  [a protruding mandible due to reactivation of ...       1   \n",
       "2                 [Bladder, Kidney, Ureter, Urethra]       0   \n",
       "3  [Motor neurons, Skeletal muscles, Melanocytes,...       2   \n",
       "4  [Afferent arteriole, Glomerulus, Loop of Henle...       1   \n",
       "\n",
       "                                negate_openai_prompt  \\\n",
       "0  {'content': 'Given a text in the form of a sho...   \n",
       "1  {'content': 'Given a text in the form of a sho...   \n",
       "2  {'content': 'Given a text in the form of a sho...   \n",
       "3  {'content': 'Given a text in the form of a sho...   \n",
       "4  {'content': 'Given a text in the form of a sho...   \n",
       "\n",
       "                                        neg_question  \\\n",
       "0  A lesion causing compression of the facial ner...   \n",
       "1  A \"dished face\" profile is NOT often associate...   \n",
       "2  Which of the following does not best describe ...   \n",
       "3  Which of the following structures is not deriv...   \n",
       "4  Which of the following does not describe the c...   \n",
       "\n",
       "                                     fewshot_context  \\\n",
       "0  What is not the embryological origin of the hy...   \n",
       "1  What is not the embryological origin of the hy...   \n",
       "2  What is not the embryological origin of the hy...   \n",
       "3  What is not the embryological origin of the hy...   \n",
       "4  What is not the embryological origin of the hy...   \n",
       "\n",
       "                                 fewshot_context_neg  \n",
       "0  What is not the embryological origin of the hy...  \n",
       "1  What is not the embryological origin of the hy...  \n",
       "2  What is not the embryological origin of the hy...  \n",
       "3  What is not the embryological origin of the hy...  \n",
       "4  What is not the embryological origin of the hy...  "
      ]
     },
     "execution_count": 28,
     "metadata": {},
     "output_type": "execute_result"
    }
   ],
   "source": [
    "df_test_mmlu_anatomy.head()"
   ]
  },
  {
   "cell_type": "code",
   "execution_count": 29,
   "metadata": {},
   "outputs": [],
   "source": [
    "df_test_mmlu_anatomy['answer'] = df_test_mmlu_anatomy.apply(lambda row: row['choices'][row['answer']], axis=1)"
   ]
  },
  {
   "cell_type": "code",
   "execution_count": 30,
   "metadata": {},
   "outputs": [],
   "source": [
    "df_test_mmlu_anatomy.drop(columns=['choices', 'negate_openai_prompt', 'neg_question', 'fewshot_context', 'fewshot_context_neg'], inplace=True)"
   ]
  },
  {
   "cell_type": "code",
   "execution_count": 31,
   "metadata": {},
   "outputs": [],
   "source": [
    "df_test_mmlu_anatomy.rename(columns={'answer':'context'}, inplace=True)"
   ]
  },
  {
   "cell_type": "markdown",
   "metadata": {},
   "source": [
    "## MMLU(Clinical Knowledge)"
   ]
  },
  {
   "cell_type": "code",
   "execution_count": 32,
   "metadata": {},
   "outputs": [],
   "source": [
    "import pandas as pd\n",
    "\n",
    "df_mmlu_clin_knowledge = {'validation': 'dev.json', 'test': 'test.json'}\n",
    "df_mmlu_test_clin_knowledge = pd.read_json(\"hf://datasets/brucewlee1/mmlu-clinical-knowledge/\" + df_mmlu_clin_knowledge[\"test\"], lines=True)\n"
   ]
  },
  {
   "cell_type": "code",
   "execution_count": 33,
   "metadata": {},
   "outputs": [],
   "source": [
    "df_mmlu_test_clin_knowledge.drop(columns=['options', 'correct_options', 'correct_options_idx'], inplace=True)"
   ]
  },
  {
   "cell_type": "code",
   "execution_count": 34,
   "metadata": {},
   "outputs": [],
   "source": [
    "df_mmlu_test_clin_knowledge.rename(columns={'correct_options_literal':'context', 'centerpiece':'question'}, inplace=True)"
   ]
  },
  {
   "cell_type": "code",
   "execution_count": 35,
   "metadata": {},
   "outputs": [],
   "source": [
    "df_mmlu_test_clin_knowledge['context'] = df_mmlu_test_clin_knowledge['context'].apply(lambda x: x[0])"
   ]
  },
  {
   "cell_type": "code",
   "execution_count": 36,
   "metadata": {},
   "outputs": [
    {
     "data": {
      "text/html": [
       "<div>\n",
       "<style scoped>\n",
       "    .dataframe tbody tr th:only-of-type {\n",
       "        vertical-align: middle;\n",
       "    }\n",
       "\n",
       "    .dataframe tbody tr th {\n",
       "        vertical-align: top;\n",
       "    }\n",
       "\n",
       "    .dataframe thead th {\n",
       "        text-align: right;\n",
       "    }\n",
       "</style>\n",
       "<table border=\"1\" class=\"dataframe\">\n",
       "  <thead>\n",
       "    <tr style=\"text-align: right;\">\n",
       "      <th></th>\n",
       "      <th>question</th>\n",
       "      <th>context</th>\n",
       "    </tr>\n",
       "  </thead>\n",
       "  <tbody>\n",
       "    <tr>\n",
       "      <th>0</th>\n",
       "      <td>The key attribute in successful marathon runni...</td>\n",
       "      <td>stamina.</td>\n",
       "    </tr>\n",
       "    <tr>\n",
       "      <th>1</th>\n",
       "      <td>Which of the following is the commonest cause ...</td>\n",
       "      <td>Alzheimer's disease.</td>\n",
       "    </tr>\n",
       "    <tr>\n",
       "      <th>2</th>\n",
       "      <td>Which of the following is NOT a symptom of ana...</td>\n",
       "      <td>Bradycardia.</td>\n",
       "    </tr>\n",
       "    <tr>\n",
       "      <th>3</th>\n",
       "      <td>In what situation are closed pouches applied?</td>\n",
       "      <td>The patient has a colostomy.</td>\n",
       "    </tr>\n",
       "    <tr>\n",
       "      <th>4</th>\n",
       "      <td>With an increasing number of sprints the:</td>\n",
       "      <td>relative contribution of aerobic metabolism in...</td>\n",
       "    </tr>\n",
       "  </tbody>\n",
       "</table>\n",
       "</div>"
      ],
      "text/plain": [
       "                                            question  \\\n",
       "0  The key attribute in successful marathon runni...   \n",
       "1  Which of the following is the commonest cause ...   \n",
       "2  Which of the following is NOT a symptom of ana...   \n",
       "3      In what situation are closed pouches applied?   \n",
       "4          With an increasing number of sprints the:   \n",
       "\n",
       "                                             context  \n",
       "0                                           stamina.  \n",
       "1                               Alzheimer's disease.  \n",
       "2                                       Bradycardia.  \n",
       "3                       The patient has a colostomy.  \n",
       "4  relative contribution of aerobic metabolism in...  "
      ]
     },
     "execution_count": 36,
     "metadata": {},
     "output_type": "execute_result"
    }
   ],
   "source": [
    "df_mmlu_test_clin_knowledge.head()"
   ]
  },
  {
   "cell_type": "markdown",
   "metadata": {},
   "source": [
    "## MMLU(College Biology)"
   ]
  },
  {
   "cell_type": "code",
   "execution_count": 37,
   "metadata": {},
   "outputs": [],
   "source": [
    "import pandas as pd\n",
    "\n",
    "mmlu_college_bio = {'validation': 'dev.json', 'test': 'test.json'}\n",
    "mmlu_test_college_bio = pd.read_json(\"hf://datasets/brucewlee1/mmlu-college-biology/\" + mmlu_college_bio[\"test\"], lines=True)"
   ]
  },
  {
   "cell_type": "code",
   "execution_count": 38,
   "metadata": {},
   "outputs": [],
   "source": [
    "mmlu_test_college_bio.drop(columns=['options', 'correct_options', 'correct_options_idx'], inplace=True)\n",
    "mmlu_test_college_bio.rename(columns={'correct_options_literal':'context', 'centerpiece':'question'}, inplace=True)\n",
    "mmlu_test_college_bio['context'] = mmlu_test_college_bio['context'].apply(lambda x: x[0])"
   ]
  },
  {
   "cell_type": "markdown",
   "metadata": {},
   "source": [
    "## MMLU(College Medicine)"
   ]
  },
  {
   "cell_type": "code",
   "execution_count": 39,
   "metadata": {},
   "outputs": [],
   "source": [
    "import pandas as pd\n",
    "\n",
    "mmlu_college_med = {'validation': 'dev.json', 'test': 'test.json'}\n",
    "mmlu_test_college_med = pd.read_json(\"hf://datasets/brucewlee1/mmlu-college-medicine/\" + mmlu_college_med[\"test\"], lines=True)"
   ]
  },
  {
   "cell_type": "code",
   "execution_count": 40,
   "metadata": {},
   "outputs": [],
   "source": [
    "mmlu_test_college_med.drop(columns=['options', 'correct_options', 'correct_options_idx'], inplace=True)\n",
    "mmlu_test_college_med.rename(columns={'correct_options_literal':'context', 'centerpiece':'question'}, inplace=True)\n",
    "mmlu_test_college_med['context'] = mmlu_test_college_med['context'].apply(lambda x: x[0])"
   ]
  },
  {
   "cell_type": "markdown",
   "metadata": {},
   "source": [
    "## MMLU(Medical Genetics)"
   ]
  },
  {
   "cell_type": "code",
   "execution_count": 41,
   "metadata": {},
   "outputs": [],
   "source": [
    "import pandas as pd\n",
    "\n",
    "mmlu_medgen = {'validation': 'dev.json', 'test': 'test.json'}\n",
    "mmlu_test_medgen = pd.read_json(\"hf://datasets/brucewlee1/mmlu-medical-genetics/\" + mmlu_medgen[\"test\"], lines=True)"
   ]
  },
  {
   "cell_type": "code",
   "execution_count": 42,
   "metadata": {},
   "outputs": [],
   "source": [
    "mmlu_test_medgen.drop(columns=['options', 'correct_options', 'correct_options_idx'], inplace=True)\n",
    "mmlu_test_medgen.rename(columns={'correct_options_literal':'context', 'centerpiece':'question'}, inplace=True)\n",
    "mmlu_test_medgen['context'] = mmlu_test_medgen['context'].apply(lambda x: x[0])"
   ]
  },
  {
   "cell_type": "markdown",
   "metadata": {},
   "source": [
    "## MMLU(Professional Medicines)"
   ]
  },
  {
   "cell_type": "code",
   "execution_count": 43,
   "metadata": {},
   "outputs": [],
   "source": [
    "import pandas as pd\n",
    "\n",
    "mmlu_profmed = {'validation': 'dev.json', 'test': 'test.json'}\n",
    "mmlu_test_profmed = pd.read_json(\"hf://datasets/brucewlee1/mmlu-professional-medicine/\" + mmlu_profmed[\"test\"], lines=True)"
   ]
  },
  {
   "cell_type": "code",
   "execution_count": 44,
   "metadata": {},
   "outputs": [],
   "source": [
    "mmlu_test_profmed.drop(columns=['options', 'correct_options', 'correct_options_idx'], inplace=True)\n",
    "mmlu_test_profmed.rename(columns={'correct_options_literal':'context', 'centerpiece':'question'}, inplace=True)\n",
    "mmlu_test_profmed['context'] = mmlu_test_profmed['context'].apply(lambda x: x[0])"
   ]
  },
  {
   "cell_type": "markdown",
   "metadata": {},
   "source": [
    "# Merge All MMLUs"
   ]
  },
  {
   "cell_type": "code",
   "execution_count": 45,
   "metadata": {},
   "outputs": [],
   "source": [
    "mmlu_final_dataset = pd.concat([df_test_mmlu_anatomy,df_mmlu_test_clin_knowledge, mmlu_test_college_bio, mmlu_test_college_med, mmlu_test_medgen, mmlu_test_profmed], ignore_index=True)"
   ]
  },
  {
   "cell_type": "code",
   "execution_count": 46,
   "metadata": {},
   "outputs": [
    {
     "data": {
      "text/plain": [
       "question    1084\n",
       "context     1084\n",
       "dtype: int64"
      ]
     },
     "execution_count": 46,
     "metadata": {},
     "output_type": "execute_result"
    }
   ],
   "source": [
    "mmlu_final_dataset.count()"
   ]
  },
  {
   "cell_type": "code",
   "execution_count": 47,
   "metadata": {},
   "outputs": [],
   "source": [
    "final_dataset = pd.concat([mmlu_final_dataset,final_dataset], ignore_index=True)"
   ]
  },
  {
   "cell_type": "code",
   "execution_count": 48,
   "metadata": {},
   "outputs": [
    {
     "data": {
      "text/plain": [
       "question    295078\n",
       "context     295078\n",
       "dtype: int64"
      ]
     },
     "execution_count": 48,
     "metadata": {},
     "output_type": "execute_result"
    }
   ],
   "source": [
    "final_dataset.count()"
   ]
  },
  {
   "cell_type": "code",
   "execution_count": 49,
   "metadata": {},
   "outputs": [],
   "source": [
    "from IPython.display import clear_output"
   ]
  },
  {
   "cell_type": "code",
   "execution_count": 50,
   "metadata": {},
   "outputs": [
    {
     "name": "stdout",
     "output_type": "stream",
     "text": [
      "99\n"
     ]
    },
    {
     "ename": "",
     "evalue": "",
     "output_type": "error",
     "traceback": [
      "\u001b[1;31mThe Kernel crashed while executing code in the current cell or a previous cell. \n",
      "\u001b[1;31mPlease review the code in the cell(s) to identify a possible cause of the failure. \n",
      "\u001b[1;31mClick <a href='https://aka.ms/vscodeJupyterKernelCrash'>here</a> for more info. \n",
      "\u001b[1;31mView Jupyter <a href='command:jupyter.viewOutput'>log</a> for further details."
     ]
    }
   ],
   "source": [
    "import uuid\n",
    "import chromadb\n",
    "chroma_client  = chromadb.PersistentClient(\"vectorstore_medllm\")\n",
    "collection = chroma_client.get_or_create_collection(name = \"medllm\")\n",
    "if not collection.count():\n",
    "    for _, row in final_dataset.iterrows():\n",
    "        print(_)\n",
    "        collection.add(documents=row['question'], metadatas={\"context\": row[\"context\"]}, ids=[str(uuid.uuid4())])\n",
    "        clear_output(wait=True)\n",
    "# all-MiniLM-L6-v2"
   ]
  },
  {
   "cell_type": "code",
   "execution_count": 50,
   "metadata": {},
   "outputs": [],
   "source": [
    "import os\n",
    "import time\n",
    "from IPython.display import clear_output"
   ]
  },
  {
   "cell_type": "code",
   "execution_count": 63,
   "metadata": {},
   "outputs": [
    {
     "name": "stdout",
     "output_type": "stream",
     "text": [
      "6603\n"
     ]
    },
    {
     "ename": "KeyboardInterrupt",
     "evalue": "",
     "output_type": "error",
     "traceback": [
      "\u001b[1;31m---------------------------------------------------------------------------\u001b[0m",
      "\u001b[1;31mKeyboardInterrupt\u001b[0m                         Traceback (most recent call last)",
      "Cell \u001b[1;32mIn[63], line 2\u001b[0m\n\u001b[0;32m      1\u001b[0m \u001b[38;5;28;01mfor\u001b[39;00m _, row \u001b[38;5;129;01min\u001b[39;00m final_dataset\u001b[38;5;241m.\u001b[39miterrows():\n\u001b[1;32m----> 2\u001b[0m     \u001b[43mclear_output\u001b[49m\u001b[43m(\u001b[49m\u001b[43mwait\u001b[49m\u001b[38;5;241;43m=\u001b[39;49m\u001b[38;5;28;43;01mTrue\u001b[39;49;00m\u001b[43m)\u001b[49m\n\u001b[0;32m      3\u001b[0m     \u001b[38;5;28mprint\u001b[39m(_)\n",
      "File \u001b[1;32md:\\Files\\Ayush\\document and educational\\CS\\practice_page\\page73(medllm)\\backllm\\Lib\\site-packages\\IPython\\core\\display_functions.py:386\u001b[0m, in \u001b[0;36mclear_output\u001b[1;34m(wait)\u001b[0m\n\u001b[0;32m    384\u001b[0m \u001b[38;5;28;01mfrom\u001b[39;00m \u001b[38;5;21;01mIPython\u001b[39;00m\u001b[38;5;21;01m.\u001b[39;00m\u001b[38;5;21;01mcore\u001b[39;00m\u001b[38;5;21;01m.\u001b[39;00m\u001b[38;5;21;01minteractiveshell\u001b[39;00m \u001b[38;5;28;01mimport\u001b[39;00m InteractiveShell\n\u001b[0;32m    385\u001b[0m \u001b[38;5;28;01mif\u001b[39;00m InteractiveShell\u001b[38;5;241m.\u001b[39minitialized():\n\u001b[1;32m--> 386\u001b[0m     \u001b[43mInteractiveShell\u001b[49m\u001b[38;5;241;43m.\u001b[39;49m\u001b[43minstance\u001b[49m\u001b[43m(\u001b[49m\u001b[43m)\u001b[49m\u001b[38;5;241;43m.\u001b[39;49m\u001b[43mdisplay_pub\u001b[49m\u001b[38;5;241;43m.\u001b[39;49m\u001b[43mclear_output\u001b[49m\u001b[43m(\u001b[49m\u001b[43mwait\u001b[49m\u001b[43m)\u001b[49m\n\u001b[0;32m    387\u001b[0m \u001b[38;5;28;01melse\u001b[39;00m:\n\u001b[0;32m    388\u001b[0m     \u001b[38;5;28mprint\u001b[39m(\u001b[38;5;124m'\u001b[39m\u001b[38;5;130;01m\\033\u001b[39;00m\u001b[38;5;124m[2K\u001b[39m\u001b[38;5;130;01m\\r\u001b[39;00m\u001b[38;5;124m'\u001b[39m, end\u001b[38;5;241m=\u001b[39m\u001b[38;5;124m'\u001b[39m\u001b[38;5;124m'\u001b[39m)\n",
      "File \u001b[1;32md:\\Files\\Ayush\\document and educational\\CS\\practice_page\\page73(medllm)\\backllm\\Lib\\site-packages\\ipykernel\\zmqshell.py:148\u001b[0m, in \u001b[0;36mZMQDisplayPublisher.clear_output\u001b[1;34m(self, wait)\u001b[0m\n\u001b[0;32m    137\u001b[0m \u001b[38;5;250m\u001b[39m\u001b[38;5;124;03m\"\"\"Clear output associated with the current execution (cell).\u001b[39;00m\n\u001b[0;32m    138\u001b[0m \n\u001b[0;32m    139\u001b[0m \u001b[38;5;124;03mParameters\u001b[39;00m\n\u001b[1;32m   (...)\u001b[0m\n\u001b[0;32m    145\u001b[0m \n\u001b[0;32m    146\u001b[0m \u001b[38;5;124;03m\"\"\"\u001b[39;00m\n\u001b[0;32m    147\u001b[0m content \u001b[38;5;241m=\u001b[39m \u001b[38;5;28mdict\u001b[39m(wait\u001b[38;5;241m=\u001b[39mwait)\n\u001b[1;32m--> 148\u001b[0m \u001b[38;5;28;43mself\u001b[39;49m\u001b[38;5;241;43m.\u001b[39;49m\u001b[43m_flush_streams\u001b[49m\u001b[43m(\u001b[49m\u001b[43m)\u001b[49m\n\u001b[0;32m    149\u001b[0m \u001b[38;5;28;01massert\u001b[39;00m \u001b[38;5;28mself\u001b[39m\u001b[38;5;241m.\u001b[39msession \u001b[38;5;129;01mis\u001b[39;00m \u001b[38;5;129;01mnot\u001b[39;00m \u001b[38;5;28;01mNone\u001b[39;00m\n\u001b[0;32m    150\u001b[0m msg \u001b[38;5;241m=\u001b[39m \u001b[38;5;28mself\u001b[39m\u001b[38;5;241m.\u001b[39msession\u001b[38;5;241m.\u001b[39mmsg(\u001b[38;5;124m\"\u001b[39m\u001b[38;5;124mclear_output\u001b[39m\u001b[38;5;124m\"\u001b[39m, json_clean(content), parent\u001b[38;5;241m=\u001b[39m\u001b[38;5;28mself\u001b[39m\u001b[38;5;241m.\u001b[39mparent_header)\n",
      "File \u001b[1;32md:\\Files\\Ayush\\document and educational\\CS\\practice_page\\page73(medllm)\\backllm\\Lib\\site-packages\\ipykernel\\zmqshell.py:67\u001b[0m, in \u001b[0;36mZMQDisplayPublisher._flush_streams\u001b[1;34m(self)\u001b[0m\n\u001b[0;32m     65\u001b[0m \u001b[38;5;250m\u001b[39m\u001b[38;5;124;03m\"\"\"flush IO Streams prior to display\"\"\"\u001b[39;00m\n\u001b[0;32m     66\u001b[0m sys\u001b[38;5;241m.\u001b[39mstdout\u001b[38;5;241m.\u001b[39mflush()\n\u001b[1;32m---> 67\u001b[0m \u001b[43msys\u001b[49m\u001b[38;5;241;43m.\u001b[39;49m\u001b[43mstderr\u001b[49m\u001b[38;5;241;43m.\u001b[39;49m\u001b[43mflush\u001b[49m\u001b[43m(\u001b[49m\u001b[43m)\u001b[49m\n",
      "File \u001b[1;32md:\\Files\\Ayush\\document and educational\\CS\\practice_page\\page73(medllm)\\backllm\\Lib\\site-packages\\ipykernel\\iostream.py:609\u001b[0m, in \u001b[0;36mOutStream.flush\u001b[1;34m(self)\u001b[0m\n\u001b[0;32m    607\u001b[0m     \u001b[38;5;28mself\u001b[39m\u001b[38;5;241m.\u001b[39mpub_thread\u001b[38;5;241m.\u001b[39mschedule(evt\u001b[38;5;241m.\u001b[39mset)\n\u001b[0;32m    608\u001b[0m     \u001b[38;5;66;03m# and give a timeout to avoid\u001b[39;00m\n\u001b[1;32m--> 609\u001b[0m     \u001b[38;5;28;01mif\u001b[39;00m \u001b[38;5;129;01mnot\u001b[39;00m \u001b[43mevt\u001b[49m\u001b[38;5;241;43m.\u001b[39;49m\u001b[43mwait\u001b[49m\u001b[43m(\u001b[49m\u001b[38;5;28;43mself\u001b[39;49m\u001b[38;5;241;43m.\u001b[39;49m\u001b[43mflush_timeout\u001b[49m\u001b[43m)\u001b[49m:\n\u001b[0;32m    610\u001b[0m         \u001b[38;5;66;03m# write directly to __stderr__ instead of warning because\u001b[39;00m\n\u001b[0;32m    611\u001b[0m         \u001b[38;5;66;03m# if this is happening sys.stderr may be the problem.\u001b[39;00m\n\u001b[0;32m    612\u001b[0m         \u001b[38;5;28mprint\u001b[39m(\u001b[38;5;124m\"\u001b[39m\u001b[38;5;124mIOStream.flush timed out\u001b[39m\u001b[38;5;124m\"\u001b[39m, file\u001b[38;5;241m=\u001b[39msys\u001b[38;5;241m.\u001b[39m__stderr__)\n\u001b[0;32m    613\u001b[0m \u001b[38;5;28;01melse\u001b[39;00m:\n",
      "File \u001b[1;32m~\\AppData\\Local\\Programs\\Python\\Python311\\Lib\\threading.py:622\u001b[0m, in \u001b[0;36mEvent.wait\u001b[1;34m(self, timeout)\u001b[0m\n\u001b[0;32m    620\u001b[0m signaled \u001b[38;5;241m=\u001b[39m \u001b[38;5;28mself\u001b[39m\u001b[38;5;241m.\u001b[39m_flag\n\u001b[0;32m    621\u001b[0m \u001b[38;5;28;01mif\u001b[39;00m \u001b[38;5;129;01mnot\u001b[39;00m signaled:\n\u001b[1;32m--> 622\u001b[0m     signaled \u001b[38;5;241m=\u001b[39m \u001b[38;5;28;43mself\u001b[39;49m\u001b[38;5;241;43m.\u001b[39;49m\u001b[43m_cond\u001b[49m\u001b[38;5;241;43m.\u001b[39;49m\u001b[43mwait\u001b[49m\u001b[43m(\u001b[49m\u001b[43mtimeout\u001b[49m\u001b[43m)\u001b[49m\n\u001b[0;32m    623\u001b[0m \u001b[38;5;28;01mreturn\u001b[39;00m signaled\n",
      "File \u001b[1;32m~\\AppData\\Local\\Programs\\Python\\Python311\\Lib\\threading.py:324\u001b[0m, in \u001b[0;36mCondition.wait\u001b[1;34m(self, timeout)\u001b[0m\n\u001b[0;32m    322\u001b[0m \u001b[38;5;28;01melse\u001b[39;00m:\n\u001b[0;32m    323\u001b[0m     \u001b[38;5;28;01mif\u001b[39;00m timeout \u001b[38;5;241m>\u001b[39m \u001b[38;5;241m0\u001b[39m:\n\u001b[1;32m--> 324\u001b[0m         gotit \u001b[38;5;241m=\u001b[39m \u001b[43mwaiter\u001b[49m\u001b[38;5;241;43m.\u001b[39;49m\u001b[43macquire\u001b[49m\u001b[43m(\u001b[49m\u001b[38;5;28;43;01mTrue\u001b[39;49;00m\u001b[43m,\u001b[49m\u001b[43m \u001b[49m\u001b[43mtimeout\u001b[49m\u001b[43m)\u001b[49m\n\u001b[0;32m    325\u001b[0m     \u001b[38;5;28;01melse\u001b[39;00m:\n\u001b[0;32m    326\u001b[0m         gotit \u001b[38;5;241m=\u001b[39m waiter\u001b[38;5;241m.\u001b[39macquire(\u001b[38;5;28;01mFalse\u001b[39;00m)\n",
      "\u001b[1;31mKeyboardInterrupt\u001b[0m: "
     ]
    }
   ],
   "source": [
    "for _, row in final_dataset.iterrows():\n",
    "    print(_)\n",
    "    clear_output(wait=True)"
   ]
  },
  {
   "cell_type": "markdown",
   "metadata": {},
   "source": [
    "## Testing part"
   ]
  },
  {
   "cell_type": "code",
   "execution_count": 2,
   "metadata": {},
   "outputs": [
    {
     "name": "stderr",
     "output_type": "stream",
     "text": [
      "d:\\Files\\Ayush\\document and educational\\CS\\practice_page\\page73(medllm)\\backllm\\Lib\\site-packages\\sentence_transformers\\cross_encoder\\CrossEncoder.py:13: TqdmWarning: IProgress not found. Please update jupyter and ipywidgets. See https://ipywidgets.readthedocs.io/en/stable/user_install.html\n",
      "  from tqdm.autonotebook import tqdm, trange\n"
     ]
    }
   ],
   "source": [
    "import pandas as pd\n",
    "import numpy as np\n",
    "import faiss\n",
    "from sentence_transformers import SentenceTransformer\n",
    "import pickle"
   ]
  },
  {
   "cell_type": "code",
   "execution_count": 3,
   "metadata": {},
   "outputs": [
    {
     "name": "stderr",
     "output_type": "stream",
     "text": [
      "d:\\Files\\Ayush\\document and educational\\CS\\practice_page\\page73(medllm)\\backllm\\Lib\\site-packages\\transformers\\tokenization_utils_base.py:1601: FutureWarning: `clean_up_tokenization_spaces` was not set. It will be set to `True` by default. This behavior will be depracted in transformers v4.45, and will be then set to `False` by default. For more details check this issue: https://github.com/huggingface/transformers/issues/31884\n",
      "  warnings.warn(\n"
     ]
    }
   ],
   "source": [
    "model = SentenceTransformer('all-MiniLM-L6-v2')"
   ]
  },
  {
   "cell_type": "code",
   "execution_count": 4,
   "metadata": {},
   "outputs": [],
   "source": [
    "import pprint"
   ]
  },
  {
   "cell_type": "code",
   "execution_count": 5,
   "metadata": {},
   "outputs": [
    {
     "name": "stdout",
     "output_type": "stream",
     "text": [
      "'Nearest neighbor 1:'\n",
      "'Question: Rabies exposure in international travelers: do we miss the target?'\n",
      "('Context: Little data exist about the spatial distribution of the risk for '\n",
      " 'travelers of being injured by a potentially rabid animal.')\n",
      "'Distance: 0.6254146099090576'\n",
      "'Nearest neighbor 2:'\n",
      "('Question: Does the changing rate of suspected rabies bite after begin to act '\n",
      " 'animal shelter in erzurum city?')\n",
      "('Context: We aimed to evaluate the relationship between establishing an '\n",
      " 'animal shelter in Erzurum and the number of suspected rabies bites between '\n",
      " 'the years 2005 and 2012.')\n",
      "'Distance: 0.6738754510879517'\n",
      "'Nearest neighbor 3:'\n",
      "('Question: A patient comes into the hospital after being bit by a dog who he '\n",
      " 'stated was “acting crazy”. The wound is open and bleeding. Animal control '\n",
      " 'captured the dog and said that it was foaming at the mouth and extremely '\n",
      " 'aggressive. Suspecting a rabies infection, the patient is given a serum that '\n",
      " 'contains rabies antibodies that were grown inside a horse. This is an '\n",
      " 'example of what kind of immunity?')\n",
      "'Context: Passive'\n",
      "'Distance: 0.6791865229606628'\n"
     ]
    }
   ],
   "source": [
    "index = faiss.read_index('./Medllm_vector/faiss_index.index')\n",
    "with open('./Medllm_vector/embeddings.pkl', 'rb') as f:\n",
    "    embeddings_np = pickle.load(f)\n",
    "df = pd.read_pickle('./Medllm_vector/dataframe.pkl')\n",
    "\n",
    "query = \"What happen in Rabies?\"\n",
    "query_embedding = model.encode(query, convert_to_tensor=True)\n",
    "instruction = \"\"\n",
    "\n",
    "query_embedding_np = query_embedding.cpu().detach().numpy().reshape(1, -1)\n",
    "\n",
    "k = 3\n",
    "D, I = index.search(query_embedding_np, k)  \n",
    "\n",
    "# Display results\n",
    "for i in range(k):\n",
    "    pprint.pprint(f\"Nearest neighbor {i + 1}:\")\n",
    "    pprint.pprint(f\"Question: {df.iloc[I[0][i]]['question']}\")\n",
    "    pprint.pprint(f\"Context: {df.iloc[I[0][i]]['context']}\")\n",
    "    pprint.pprint(f\"Distance: {D[0][i]}\")"
   ]
  },
  {
   "cell_type": "code",
   "execution_count": 6,
   "metadata": {},
   "outputs": [],
   "source": [
    "from langchain_groq import ChatGroq\n",
    "llm = ChatGroq(\n",
    "    model_name=\"llama-3.1-70b-versatile\",\n",
    "    temperature=0,\n",
    "    groq_api_key = \"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\"\n",
    ")\n"
   ]
  },
  {
   "cell_type": "code",
   "execution_count": 7,
   "metadata": {},
   "outputs": [
    {
     "name": "stdout",
     "output_type": "stream",
     "text": [
      "('In rabies, exposure to the virus occurs through the bite of a potentially '\n",
      " 'infected animal, which can lead to serious health consequences if left '\n",
      " 'untreated. The risk of being injured by a rabid animal varies by location, '\n",
      " 'and travelers may be at risk of exposure in certain areas. Establishing '\n",
      " 'animal shelters can help reduce the number of suspected rabies bites by '\n",
      " 'managing the animal population and providing a safe environment for animals.')\n"
     ]
    }
   ],
   "source": [
    "from langchain_core.prompts import PromptTemplate\n",
    "\n",
    "prompt_extract = PromptTemplate.from_template(\n",
    "        \"\"\"\n",
    "        ### Give the Following Question asked by user:\n",
    "        {query}\n",
    "        ### INSTRUCTION:\n",
    "        {instruction}\n",
    "        and the context of the document is: {document}: {context}\n",
    "        and the another context of the document is: {document2}: {context2}\n",
    "        ### (NO PREAMBLE):    \n",
    "        # Provide the valid response in one para to the user's question, based on the context of the document and the instruction given and don't say about less context given.\n",
    "        \"\"\"\n",
    ")\n",
    "\n",
    "chain_extract = prompt_extract | llm \n",
    "res = chain_extract.invoke(input={'instruction':instruction, 'query':query, 'context':df.iloc[I[0][0]]['context'], 'document':df.iloc[I[0][0]]['question'], 'document2':df.iloc[I[0][1]]['question'], 'context2':df.iloc[I[0][1]]['context'],})\n",
    "pprint.pprint(res.content)"
   ]
  },
  {
   "cell_type": "code",
   "execution_count": 40,
   "metadata": {},
   "outputs": [
    {
     "name": "stdout",
     "output_type": "stream",
     "text": [
      "The presence of a specific microorganism in water can indicate remote contamination. Among the options provided, Clostridium perfringens is a spore-forming bacterium that can survive in the environment for extended periods and is often used as an indicator of fecal contamination in water sources. Its presence in water suggests that the water may have been contaminated with fecal matter from a remote source.\n",
      "\n",
      "(A) Streptococci\n"
     ]
    }
   ],
   "source": [
    "print(res.content)"
   ]
  }
 ],
 "metadata": {
  "kernelspec": {
   "display_name": "backllm",
   "language": "python",
   "name": "python3"
  },
  "language_info": {
   "codemirror_mode": {
    "name": "ipython",
    "version": 3
   },
   "file_extension": ".py",
   "mimetype": "text/x-python",
   "name": "python",
   "nbconvert_exporter": "python",
   "pygments_lexer": "ipython3",
   "version": "3.11.4"
  }
 },
 "nbformat": 4,
 "nbformat_minor": 2
}
